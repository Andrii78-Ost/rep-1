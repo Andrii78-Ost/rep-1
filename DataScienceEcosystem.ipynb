{
 "cells": [
  {
   "cell_type": "markdown",
   "id": "40bb21ce-05cf-493b-a52d-5204772165f7",
   "metadata": {},
   "source": [
    "# Data Science Tools and Ecosystem"
   ]
  },
  {
   "cell_type": "markdown",
   "id": "294097f3-84b7-4f4c-a05c-c433113ce063",
   "metadata": {},
   "source": [
    "In this notebook, Data Science Tools and Ecosystem are summarized."
   ]
  },
  {
   "cell_type": "markdown",
   "id": "c8523e16-0ac0-4e2f-af63-25ce11ae6204",
   "metadata": {},
   "source": [
    "Some of the popular languages that Data Scientists use are:\n",
    "1. Python\n",
    "2. R\n",
    "3. SQL"
   ]
  },
  {
   "cell_type": "markdown",
   "id": "9c093a17-9837-4816-820e-a5918cef4d49",
   "metadata": {},
   "source": [
    "Some of the commonly used libraries used by Data Scientists include:\n",
    "1. Pandas\n",
    "2. Matplotlib\n",
    "3. NumPy\n",
    "4. dplyr\n",
    "5. ggplot2"
   ]
  },
  {
   "cell_type": "markdown",
   "id": "135d0a50-9347-4c5a-b272-3cf62e7f1af1",
   "metadata": {},
   "source": [
    "| Data Science Tools | \n",
    "| ---- |\n",
    "| Jupyter Notebook |\n",
    "| RStudio |\n",
    "| GitHub |"
   ]
  },
  {
   "cell_type": "markdown",
   "id": "e1670879-c411-45f4-953d-106cc76bdd46",
   "metadata": {},
   "source": [
    "### Below are a few examples of evaluating arithmetic expressions in Python\n",
    "1. 1+1\n",
    "2. 5*8\n",
    "3. (9-4)*5"
   ]
  },
  {
   "cell_type": "code",
   "execution_count": 3,
   "id": "f6bb6160-b450-4693-9f13-38929c59f901",
   "metadata": {},
   "outputs": [
    {
     "data": {
      "text/plain": [
       "17"
      ]
     },
     "execution_count": 3,
     "metadata": {},
     "output_type": "execute_result"
    }
   ],
   "source": [
    "# This a simple arithmetic expression to mutiply then add integers\n",
    "(3*4)+5"
   ]
  },
  {
   "cell_type": "code",
   "execution_count": 5,
   "id": "209de244-7426-4dca-9660-9cc98a762f7e",
   "metadata": {},
   "outputs": [
    {
     "data": {
      "text/plain": [
       "3.33"
      ]
     },
     "execution_count": 5,
     "metadata": {},
     "output_type": "execute_result"
    }
   ],
   "source": [
    "# This will convert 200 minutes to hours by diving by 60\n",
    "round(200/60, 2)"
   ]
  },
  {
   "cell_type": "markdown",
   "id": "d91a880f-5bfb-459c-8dd3-7b3e37a48eef",
   "metadata": {},
   "source": [
    "## Author\n",
    "Andrii Ostash"
   ]
  },
  {
   "cell_type": "code",
   "execution_count": null,
   "id": "e71ed138-9fea-41a2-af79-55ced5f26ef2",
   "metadata": {},
   "outputs": [],
   "source": []
  }
 ],
 "metadata": {
  "kernelspec": {
   "display_name": "Python 3 (ipykernel)",
   "language": "python",
   "name": "python3"
  },
  "language_info": {
   "codemirror_mode": {
    "name": "ipython",
    "version": 3
   },
   "file_extension": ".py",
   "mimetype": "text/x-python",
   "name": "python",
   "nbconvert_exporter": "python",
   "pygments_lexer": "ipython3",
   "version": "3.12.4"
  }
 },
 "nbformat": 4,
 "nbformat_minor": 5
}
